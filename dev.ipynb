{
 "cells": [
  {
   "cell_type": "code",
   "execution_count": 33,
   "id": "2ef479a5",
   "metadata": {},
   "outputs": [],
   "source": [
    "from dataclasses import dataclass\n",
    "from datetime import datetime\n",
    "import hashlib\n",
    "\n"
   ]
  },
  {
   "cell_type": "code",
   "execution_count": 34,
   "id": "2286c9d0",
   "metadata": {},
   "outputs": [],
   "source": [
    "@dataclass\n",
    "class RecordTrade():\n",
    "    buyer_id: str\n",
    "    seller_id: str\n",
    "    shares: float"
   ]
  },
  {
   "cell_type": "code",
   "execution_count": 35,
   "id": "1ba9169a",
   "metadata": {},
   "outputs": [],
   "source": [
    "@dataclass\n",
    "class Block():\n",
    "    record: RecordTrade\n",
    "    trade_time: str=datetime.utcnow().strftime('%H:%M:%S')\n",
    "    prev_hash: str='0'\n",
    "        \n",
    "    def hash_block(self):\n",
    "        sha=hashlib.sha256()\n",
    "        \n",
    "        trade_time_encoded=self.trade_time.encode()\n",
    "        \n",
    "        sha.update(trade_time_encoded)\n",
    "        \n",
    "        return sha.hexdigest()"
   ]
  },
  {
   "cell_type": "code",
   "execution_count": 36,
   "id": "0a0fc5f3",
   "metadata": {},
   "outputs": [],
   "source": [
    "from typing import List\n",
    "\n",
    "@dataclass\n",
    "class StockChain():\n",
    "    chain: List[Block]\n",
    "        \n",
    "    def add_block(self, block):\n",
    "        self.chain=self.chain+[block]"
   ]
  },
  {
   "cell_type": "code",
   "execution_count": 44,
   "id": "17b9ea6a",
   "metadata": {},
   "outputs": [],
   "source": [
    "chain=StockChain(\n",
    "        chain=[Block(\n",
    "            record=RecordTrade(\n",
    "                buyer_id=1,\n",
    "                shares=100,\n",
    "                seller_id=2\n",
    "            )\n",
    "        )]\n",
    ")"
   ]
  },
  {
   "cell_type": "code",
   "execution_count": 50,
   "id": "3eb90d31",
   "metadata": {},
   "outputs": [],
   "source": [
    "last_block=chain.chain[-1]\n",
    "prev_block_hash=last_block.hash_block()\n",
    "new_block=Block(record=RecordTrade(1, 1, 1), prev_hash=prev_block_hash)"
   ]
  },
  {
   "cell_type": "code",
   "execution_count": 51,
   "id": "46a0083a",
   "metadata": {},
   "outputs": [
    {
     "data": {
      "text/plain": [
       "'cacf140f4e6c04b0197c193c617305af10c252fc9a85b4506cbfc02562e13e6d'"
      ]
     },
     "execution_count": 51,
     "metadata": {},
     "output_type": "execute_result"
    }
   ],
   "source": [
    "new_block.prev_hash"
   ]
  },
  {
   "cell_type": "code",
   "execution_count": 52,
   "id": "d5461262",
   "metadata": {},
   "outputs": [],
   "source": [
    "chain.add_block(new_block)"
   ]
  },
  {
   "cell_type": "code",
   "execution_count": 53,
   "id": "57ef7a1c",
   "metadata": {},
   "outputs": [
    {
     "data": {
      "text/plain": [
       "StockChain(chain=[Block(record=RecordTrade(buyer_id=1, seller_id=2, shares=100), trade_time='03:51:36', prev_hash='0'), Block(record=RecordTrade(buyer_id=1, seller_id=1, shares=1), trade_time='03:51:36', prev_hash='cacf140f4e6c04b0197c193c617305af10c252fc9a85b4506cbfc02562e13e6d')])"
      ]
     },
     "execution_count": 53,
     "metadata": {},
     "output_type": "execute_result"
    }
   ],
   "source": [
    "chain"
   ]
  },
  {
   "cell_type": "code",
   "execution_count": 45,
   "id": "e28b72b8",
   "metadata": {},
   "outputs": [
    {
     "name": "stdout",
     "output_type": "stream",
     "text": [
      "StockChain(chain=[Block(record=RecordTrade(buyer_id=1, seller_id=2, shares=100), trade_time='03:51:36', prev_hash='0')])\n"
     ]
    }
   ],
   "source": [
    "print(chain)"
   ]
  },
  {
   "cell_type": "code",
   "execution_count": null,
   "id": "e782f872",
   "metadata": {},
   "outputs": [],
   "source": []
  },
  {
   "cell_type": "code",
   "execution_count": 11,
   "id": "b2f022d0",
   "metadata": {},
   "outputs": [],
   "source": [
    "chain=StockChain([genesis_block])"
   ]
  },
  {
   "cell_type": "code",
   "execution_count": 12,
   "id": "6bd71fd4",
   "metadata": {},
   "outputs": [],
   "source": [
    "chain.add_block(new_block)"
   ]
  },
  {
   "cell_type": "code",
   "execution_count": 13,
   "id": "da1bcf97",
   "metadata": {},
   "outputs": [
    {
     "data": {
      "text/plain": [
       "StockChain(chain=[Block(trade_time='03:39:54', prev_hash='0'), Block(trade_time='03:39:54', prev_hash='0')])"
      ]
     },
     "execution_count": 13,
     "metadata": {},
     "output_type": "execute_result"
    }
   ],
   "source": [
    "chain"
   ]
  },
  {
   "cell_type": "code",
   "execution_count": null,
   "id": "e08fb820",
   "metadata": {},
   "outputs": [],
   "source": []
  }
 ],
 "metadata": {
  "kernelspec": {
   "display_name": "Python 3",
   "language": "python",
   "name": "python3"
  },
  "language_info": {
   "codemirror_mode": {
    "name": "ipython",
    "version": 3
   },
   "file_extension": ".py",
   "mimetype": "text/x-python",
   "name": "python",
   "nbconvert_exporter": "python",
   "pygments_lexer": "ipython3",
   "version": "3.7.1"
  }
 },
 "nbformat": 4,
 "nbformat_minor": 5
}
