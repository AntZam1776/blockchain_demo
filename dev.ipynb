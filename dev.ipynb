{
 "cells": [
  {
   "cell_type": "code",
   "execution_count": 33,
   "id": "a6f1afdf",
   "metadata": {},
   "outputs": [],
   "source": [
    "from dataclasses import dataclass\n",
    "from datetime import datetime\n",
    "import hashlib\n",
    "\n"
   ]
  },
  {
   "cell_type": "code",
   "execution_count": 34,
   "id": "4d14a956",
   "metadata": {},
   "outputs": [],
   "source": [
    "@dataclass\n",
    "class RecordTrade():\n",
    "    buyer_id: str\n",
    "    seller_id: str\n",
    "    shares: float"
   ]
  },
  {
   "cell_type": "code",
   "execution_count": 35,
   "id": "ceab757c",
   "metadata": {},
   "outputs": [],
   "source": [
    "@dataclass\n",
    "class Block():\n",
    "    record: RecordTrade\n",
    "    trade_time: str=datetime.utcnow().strftime('%H:%M:%S')\n",
    "    prev_hash: str='0'\n",
    "        \n",
    "    def hash_block(self):\n",
    "        sha=hashlib.sha256()\n",
    "        \n",
    "        trade_time_encoded=self.trade_time.encode()\n",
    "        \n",
    "        sha.update(trade_time_encoded)\n",
    "        \n",
    "        return sha.hexdigest()"
   ]
  },
  {
   "cell_type": "code",
   "execution_count": 36,
   "id": "026807ce",
   "metadata": {},
   "outputs": [],
   "source": [
    "from typing import List\n",
    "\n",
    "@dataclass\n",
    "class StockChain():\n",
    "    chain: List[Block]\n",
    "        \n",
    "    def add_block(self, block):\n",
    "        self.chain=self.chain+[block]"
   ]
  },
  {
   "cell_type": "code",
   "execution_count": 44,
   "id": "69e84234",
   "metadata": {},
   "outputs": [],
   "source": [
    "chain=StockChain(\n",
    "        chain=[Block(\n",
    "            record=RecordTrade(\n",
    "                buyer_id=1,\n",
    "                shares=100,\n",
    "                seller_id=2\n",
    "            )\n",
    "        )]\n",
    ")"
   ]
  },
  {
   "cell_type": "code",
   "execution_count": 45,
   "id": "3c840837",
   "metadata": {},
   "outputs": [
    {
     "name": "stdout",
     "output_type": "stream",
     "text": [
      "StockChain(chain=[Block(record=RecordTrade(buyer_id=1, seller_id=2, shares=100), trade_time='03:51:36', prev_hash='0')])\n"
     ]
    }
   ],
   "source": [
    "print(chain)"
   ]
  },
  {
   "cell_type": "code",
   "execution_count": null,
   "id": "e10c9420",
   "metadata": {},
   "outputs": [],
   "source": []
  },
  {
   "cell_type": "code",
   "execution_count": 11,
   "id": "2665025c",
   "metadata": {},
   "outputs": [],
   "source": [
    "chain=StockChain([genesis_block])"
   ]
  },
  {
   "cell_type": "code",
   "execution_count": 12,
   "id": "425fb612",
   "metadata": {},
   "outputs": [],
   "source": [
    "chain.add_block(new_block)"
   ]
  },
  {
   "cell_type": "code",
   "execution_count": 13,
   "id": "154a24f3",
   "metadata": {},
   "outputs": [
    {
     "data": {
      "text/plain": [
       "StockChain(chain=[Block(trade_time='03:39:54', prev_hash='0'), Block(trade_time='03:39:54', prev_hash='0')])"
      ]
     },
     "execution_count": 13,
     "metadata": {},
     "output_type": "execute_result"
    }
   ],
   "source": [
    "chain"
   ]
  },
  {
   "cell_type": "code",
   "execution_count": null,
   "id": "98bd8d38",
   "metadata": {},
   "outputs": [],
   "source": []
  }
 ],
 "metadata": {
  "kernelspec": {
   "display_name": "Python 3",
   "language": "python",
   "name": "python3"
  },
  "language_info": {
   "codemirror_mode": {
    "name": "ipython",
    "version": 3
   },
   "file_extension": ".py",
   "mimetype": "text/x-python",
   "name": "python",
   "nbconvert_exporter": "python",
   "pygments_lexer": "ipython3",
   "version": "3.7.1"
  }
 },
 "nbformat": 4,
 "nbformat_minor": 5
}
