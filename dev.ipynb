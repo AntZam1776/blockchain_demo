{
 "cells": [
  {
   "cell_type": "code",
   "execution_count": 33,
   "id": "088464ba",
   "metadata": {},
   "outputs": [],
   "source": [
    "from dataclasses import dataclass\n",
    "from datetime import datetime\n",
    "import hashlib\n",
    "\n"
   ]
  },
  {
   "cell_type": "code",
   "execution_count": 34,
   "id": "c68a0638",
   "metadata": {},
   "outputs": [],
   "source": [
    "@dataclass\n",
    "class RecordTrade():\n",
    "    buyer_id: str\n",
    "    seller_id: str\n",
    "    shares: float"
   ]
  },
  {
   "cell_type": "code",
   "execution_count": 35,
   "id": "90a2b81d",
   "metadata": {},
   "outputs": [],
   "source": [
    "@dataclass\n",
    "class Block():\n",
    "    record: RecordTrade\n",
    "    trade_time: str=datetime.utcnow().strftime('%H:%M:%S')\n",
    "    prev_hash: str='0'\n",
    "        \n",
    "    def hash_block(self):\n",
    "        sha=hashlib.sha256()\n",
    "        \n",
    "        trade_time_encoded=self.trade_time.encode()\n",
    "        \n",
    "        sha.update(trade_time_encoded)\n",
    "        \n",
    "        return sha.hexdigest()"
   ]
  },
  {
   "cell_type": "code",
   "execution_count": 36,
   "id": "ee10c27d",
   "metadata": {},
   "outputs": [],
   "source": [
    "from typing import List\n",
    "\n",
    "@dataclass\n",
    "class StockChain():\n",
    "    chain: List[Block]\n",
    "        \n",
    "    def add_block(self, block):\n",
    "        self.chain=self.chain+[block]"
   ]
  },
  {
   "cell_type": "code",
   "execution_count": 40,
   "id": "84d0dcdb",
   "metadata": {},
   "outputs": [
    {
     "ename": "TypeError",
     "evalue": "__init__() missing 1 required positional argument: 'record'",
     "output_type": "error",
     "traceback": [
      "\u001b[0;31m---------------------------------------------------------------------------\u001b[0m",
      "\u001b[0;31mTypeError\u001b[0m                                 Traceback (most recent call last)",
      "\u001b[0;32m<ipython-input-40-62574b94c681>\u001b[0m in \u001b[0;36m<module>\u001b[0;34m\u001b[0m\n\u001b[0;32m----> 1\u001b[0;31m \u001b[0mStockChain\u001b[0m\u001b[0;34m(\u001b[0m\u001b[0mchain\u001b[0m\u001b[0;34m=\u001b[0m\u001b[0;34m[\u001b[0m\u001b[0mBlock\u001b[0m\u001b[0;34m(\u001b[0m\u001b[0;34m)\u001b[0m\u001b[0;34m]\u001b[0m\u001b[0;34m)\u001b[0m\u001b[0;34m\u001b[0m\u001b[0;34m\u001b[0m\u001b[0m\n\u001b[0m",
      "\u001b[0;31mTypeError\u001b[0m: __init__() missing 1 required positional argument: 'record'"
     ]
    }
   ],
   "source": [
    "StockChain(\n",
    "    chain=[Block(\n",
    "        Record=)])"
   ]
  },
  {
   "cell_type": "code",
   "execution_count": null,
   "id": "c6b4de1d",
   "metadata": {},
   "outputs": [],
   "source": []
  },
  {
   "cell_type": "code",
   "execution_count": null,
   "id": "3b4172a4",
   "metadata": {},
   "outputs": [],
   "source": []
  },
  {
   "cell_type": "code",
   "execution_count": 11,
   "id": "d63c35a5",
   "metadata": {},
   "outputs": [],
   "source": [
    "chain=StockChain([genesis_block])"
   ]
  },
  {
   "cell_type": "code",
   "execution_count": 12,
   "id": "5ffa7606",
   "metadata": {},
   "outputs": [],
   "source": [
    "chain.add_block(new_block)"
   ]
  },
  {
   "cell_type": "code",
   "execution_count": 13,
   "id": "f404371b",
   "metadata": {},
   "outputs": [
    {
     "data": {
      "text/plain": [
       "StockChain(chain=[Block(trade_time='03:39:54', prev_hash='0'), Block(trade_time='03:39:54', prev_hash='0')])"
      ]
     },
     "execution_count": 13,
     "metadata": {},
     "output_type": "execute_result"
    }
   ],
   "source": [
    "chain"
   ]
  },
  {
   "cell_type": "code",
   "execution_count": null,
   "id": "a4ec5f6d",
   "metadata": {},
   "outputs": [],
   "source": []
  }
 ],
 "metadata": {
  "kernelspec": {
   "display_name": "Python 3",
   "language": "python",
   "name": "python3"
  },
  "language_info": {
   "codemirror_mode": {
    "name": "ipython",
    "version": 3
   },
   "file_extension": ".py",
   "mimetype": "text/x-python",
   "name": "python",
   "nbconvert_exporter": "python",
   "pygments_lexer": "ipython3",
   "version": "3.7.1"
  }
 },
 "nbformat": 4,
 "nbformat_minor": 5
}
